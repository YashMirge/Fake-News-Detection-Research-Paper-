{
 "cells": [
  {
   "cell_type": "code",
   "execution_count": 1,
   "metadata": {},
   "outputs": [],
   "source": [
    "import numpy as np\n",
    "import pandas as pd\n",
    "import nltk\n",
    "from nltk.corpus import stopwords\n",
    "import string"
   ]
  },
  {
   "cell_type": "code",
   "execution_count": 106,
   "metadata": {},
   "outputs": [
    {
     "data": {
      "text/html": [
       "<div>\n",
       "<style scoped>\n",
       "    .dataframe tbody tr th:only-of-type {\n",
       "        vertical-align: middle;\n",
       "    }\n",
       "\n",
       "    .dataframe tbody tr th {\n",
       "        vertical-align: top;\n",
       "    }\n",
       "\n",
       "    .dataframe thead th {\n",
       "        text-align: right;\n",
       "    }\n",
       "</style>\n",
       "<table border=\"1\" class=\"dataframe\">\n",
       "  <thead>\n",
       "    <tr style=\"text-align: right;\">\n",
       "      <th></th>\n",
       "      <th>Unnamed: 0</th>\n",
       "      <th>title</th>\n",
       "      <th>text</th>\n",
       "      <th>label</th>\n",
       "    </tr>\n",
       "  </thead>\n",
       "  <tbody>\n",
       "    <tr>\n",
       "      <td>0</td>\n",
       "      <td>8476</td>\n",
       "      <td>You Can Smell Hillary’s Fear</td>\n",
       "      <td>Daniel Greenfield, a Shillman Journalism Fello...</td>\n",
       "      <td>FAKE</td>\n",
       "    </tr>\n",
       "    <tr>\n",
       "      <td>1</td>\n",
       "      <td>10294</td>\n",
       "      <td>Watch The Exact Moment Paul Ryan Committed Pol...</td>\n",
       "      <td>Google Pinterest Digg Linkedin Reddit Stumbleu...</td>\n",
       "      <td>FAKE</td>\n",
       "    </tr>\n",
       "    <tr>\n",
       "      <td>2</td>\n",
       "      <td>3608</td>\n",
       "      <td>Kerry to go to Paris in gesture of sympathy</td>\n",
       "      <td>U.S. Secretary of State John F. Kerry said Mon...</td>\n",
       "      <td>REAL</td>\n",
       "    </tr>\n",
       "    <tr>\n",
       "      <td>3</td>\n",
       "      <td>10142</td>\n",
       "      <td>Bernie supporters on Twitter erupt in anger ag...</td>\n",
       "      <td>— Kaydee King (@KaydeeKing) November 9, 2016 T...</td>\n",
       "      <td>FAKE</td>\n",
       "    </tr>\n",
       "    <tr>\n",
       "      <td>4</td>\n",
       "      <td>875</td>\n",
       "      <td>The Battle of New York: Why This Primary Matters</td>\n",
       "      <td>It's primary day in New York and front-runners...</td>\n",
       "      <td>REAL</td>\n",
       "    </tr>\n",
       "    <tr>\n",
       "      <td>5</td>\n",
       "      <td>6903</td>\n",
       "      <td>Tehran, USA</td>\n",
       "      <td>\\nI’m not an immigrant, but my grandparents ...</td>\n",
       "      <td>FAKE</td>\n",
       "    </tr>\n",
       "    <tr>\n",
       "      <td>6</td>\n",
       "      <td>7341</td>\n",
       "      <td>Girl Horrified At What She Watches Boyfriend D...</td>\n",
       "      <td>Share This Baylee Luciani (left), Screenshot o...</td>\n",
       "      <td>FAKE</td>\n",
       "    </tr>\n",
       "    <tr>\n",
       "      <td>7</td>\n",
       "      <td>95</td>\n",
       "      <td>‘Britain’s Schindler’ Dies at 106</td>\n",
       "      <td>A Czech stockbroker who saved more than 650 Je...</td>\n",
       "      <td>REAL</td>\n",
       "    </tr>\n",
       "    <tr>\n",
       "      <td>8</td>\n",
       "      <td>4869</td>\n",
       "      <td>Fact check: Trump and Clinton at the 'commande...</td>\n",
       "      <td>Hillary Clinton and Donald Trump made some ina...</td>\n",
       "      <td>REAL</td>\n",
       "    </tr>\n",
       "    <tr>\n",
       "      <td>9</td>\n",
       "      <td>2909</td>\n",
       "      <td>Iran reportedly makes new push for uranium con...</td>\n",
       "      <td>Iranian negotiators reportedly have made a las...</td>\n",
       "      <td>REAL</td>\n",
       "    </tr>\n",
       "    <tr>\n",
       "      <td>10</td>\n",
       "      <td>1357</td>\n",
       "      <td>With all three Clintons in Iowa, a glimpse at ...</td>\n",
       "      <td>CEDAR RAPIDS, Iowa — “I had one of the most wo...</td>\n",
       "      <td>REAL</td>\n",
       "    </tr>\n",
       "    <tr>\n",
       "      <td>11</td>\n",
       "      <td>988</td>\n",
       "      <td>Donald Trump’s Shockingly Weak Delegate Game S...</td>\n",
       "      <td>Donald Trump’s organizational problems have go...</td>\n",
       "      <td>REAL</td>\n",
       "    </tr>\n",
       "    <tr>\n",
       "      <td>12</td>\n",
       "      <td>7041</td>\n",
       "      <td>Strong Solar Storm, Tech Risks Today | S0 News...</td>\n",
       "      <td>Click Here To Learn More About Alexandra's Per...</td>\n",
       "      <td>FAKE</td>\n",
       "    </tr>\n",
       "    <tr>\n",
       "      <td>13</td>\n",
       "      <td>7623</td>\n",
       "      <td>10 Ways America Is Preparing for World War 3</td>\n",
       "      <td>October 31, 2016 at 4:52 am \\nPretty factual e...</td>\n",
       "      <td>FAKE</td>\n",
       "    </tr>\n",
       "    <tr>\n",
       "      <td>14</td>\n",
       "      <td>1571</td>\n",
       "      <td>Trump takes on Cruz, but lightly</td>\n",
       "      <td>Killing Obama administration rules, dismantlin...</td>\n",
       "      <td>REAL</td>\n",
       "    </tr>\n",
       "    <tr>\n",
       "      <td>15</td>\n",
       "      <td>4739</td>\n",
       "      <td>How women lead differently</td>\n",
       "      <td>As more women move into high offices, they oft...</td>\n",
       "      <td>REAL</td>\n",
       "    </tr>\n",
       "    <tr>\n",
       "      <td>16</td>\n",
       "      <td>7737</td>\n",
       "      <td>Shocking! Michele Obama &amp; Hillary Caught Glamo...</td>\n",
       "      <td>Shocking! Michele Obama &amp; Hillary Caught Glamo...</td>\n",
       "      <td>FAKE</td>\n",
       "    </tr>\n",
       "    <tr>\n",
       "      <td>17</td>\n",
       "      <td>8716</td>\n",
       "      <td>Hillary Clinton in HUGE Trouble After America ...</td>\n",
       "      <td>0 \\nHillary Clinton has barely just lost the p...</td>\n",
       "      <td>FAKE</td>\n",
       "    </tr>\n",
       "    <tr>\n",
       "      <td>18</td>\n",
       "      <td>3304</td>\n",
       "      <td>What's in that Iran bill that Obama doesn't like?</td>\n",
       "      <td>Washington (CNN) For months, the White House a...</td>\n",
       "      <td>REAL</td>\n",
       "    </tr>\n",
       "    <tr>\n",
       "      <td>19</td>\n",
       "      <td>3078</td>\n",
       "      <td>The 1 chart that explains everything you need ...</td>\n",
       "      <td>While paging through Pew's best data visualiza...</td>\n",
       "      <td>REAL</td>\n",
       "    </tr>\n",
       "    <tr>\n",
       "      <td>20</td>\n",
       "      <td>2517</td>\n",
       "      <td>The slippery slope to Trump’s proposed ban on ...</td>\n",
       "      <td>With little fanfare this fall, the New York de...</td>\n",
       "      <td>REAL</td>\n",
       "    </tr>\n",
       "    <tr>\n",
       "      <td>21</td>\n",
       "      <td>10348</td>\n",
       "      <td>Episode #160 – SUNDAY WIRE: ‘Hail to the Deplo...</td>\n",
       "      <td>November 13, 2016 By 21wire Leave a Comment \\n...</td>\n",
       "      <td>FAKE</td>\n",
       "    </tr>\n",
       "    <tr>\n",
       "      <td>22</td>\n",
       "      <td>778</td>\n",
       "      <td>Hillary Clinton Makes A Bipartisan Appeal on S...</td>\n",
       "      <td>Hillary Clinton told a Staten Island crowd tod...</td>\n",
       "      <td>REAL</td>\n",
       "    </tr>\n",
       "    <tr>\n",
       "      <td>23</td>\n",
       "      <td>3300</td>\n",
       "      <td>New Senate majority leader’s main goal for GOP...</td>\n",
       "      <td>Mitch McConnell has an unusual admonition for ...</td>\n",
       "      <td>REAL</td>\n",
       "    </tr>\n",
       "    <tr>\n",
       "      <td>24</td>\n",
       "      <td>6155</td>\n",
       "      <td>‘Inferno’ and the Overpopulation Myth</td>\n",
       "      <td>Mises.org November 1, 2016 Inferno is a great ...</td>\n",
       "      <td>FAKE</td>\n",
       "    </tr>\n",
       "    <tr>\n",
       "      <td>25</td>\n",
       "      <td>636</td>\n",
       "      <td>Anti-Trump forces seek last-ditch delegate revolt</td>\n",
       "      <td>Washington (CNN) The faction of the GOP that i...</td>\n",
       "      <td>REAL</td>\n",
       "    </tr>\n",
       "    <tr>\n",
       "      <td>26</td>\n",
       "      <td>755</td>\n",
       "      <td>Sanders Trounces Clinton in W. Va. -- But Will...</td>\n",
       "      <td>Meanwhile, Democrat Bernie Sanders picked up m...</td>\n",
       "      <td>REAL</td>\n",
       "    </tr>\n",
       "    <tr>\n",
       "      <td>27</td>\n",
       "      <td>626</td>\n",
       "      <td>Donald Trump Is Changing His Campaign Slogan t...</td>\n",
       "      <td>After a week of nonstop criticism from Democra...</td>\n",
       "      <td>REAL</td>\n",
       "    </tr>\n",
       "    <tr>\n",
       "      <td>28</td>\n",
       "      <td>691</td>\n",
       "      <td>Pure chaos: Donald Trump’s campaign management...</td>\n",
       "      <td>If you want a glimpse into a presidential cand...</td>\n",
       "      <td>REAL</td>\n",
       "    </tr>\n",
       "    <tr>\n",
       "      <td>29</td>\n",
       "      <td>5743</td>\n",
       "      <td>Syrian War Report – November 1, 2016: Syrian M...</td>\n",
       "      <td>Syrian War Report – October 31, 2016: Al-Nusra...</td>\n",
       "      <td>FAKE</td>\n",
       "    </tr>\n",
       "    <tr>\n",
       "      <td>30</td>\n",
       "      <td>1787</td>\n",
       "      <td>GOP insiders: Carly crushed it</td>\n",
       "      <td>On this day in 1973, J. Fred Buzhardt, a lawye...</td>\n",
       "      <td>REAL</td>\n",
       "    </tr>\n",
       "    <tr>\n",
       "      <td>31</td>\n",
       "      <td>7808</td>\n",
       "      <td>Jeffrey Sewell et al. : Metabiology face to fa...</td>\n",
       "      <td>Randy Maugans &amp; Jeffrey Sewell | Metabiology f...</td>\n",
       "      <td>FAKE</td>\n",
       "    </tr>\n",
       "    <tr>\n",
       "      <td>32</td>\n",
       "      <td>6484</td>\n",
       "      <td>Why It’s Necessary To Relax Into A Stretch</td>\n",
       "      <td>In a previous article , I discussed stretching...</td>\n",
       "      <td>FAKE</td>\n",
       "    </tr>\n",
       "    <tr>\n",
       "      <td>33</td>\n",
       "      <td>7385</td>\n",
       "      <td>Brexit Encourages UK to Trade With Non-EU Stat...</td>\n",
       "      <td>Britain and EU After Brexit ( 31 ) 0 13 0 0 Br...</td>\n",
       "      <td>FAKE</td>\n",
       "    </tr>\n",
       "    <tr>\n",
       "      <td>34</td>\n",
       "      <td>9016</td>\n",
       "      <td>2016 interview with Socrates: Another day of L...</td>\n",
       "      <td>Posted on October 27, 2016 by Carl Herman \\n“I...</td>\n",
       "      <td>FAKE</td>\n",
       "    </tr>\n",
       "    <tr>\n",
       "      <td>35</td>\n",
       "      <td>9324</td>\n",
       "      <td>Mike Pence Drapes Shawl Over Immodest Lady Jus...</td>\n",
       "      <td>Trump Raises Concern Over Members Of Urban Com...</td>\n",
       "      <td>FAKE</td>\n",
       "    </tr>\n",
       "    <tr>\n",
       "      <td>36</td>\n",
       "      <td>8983</td>\n",
       "      <td>First Ever Hindu Woman Elected into Congress</td>\n",
       "      <td>First ever Hindu was elected to the US House o...</td>\n",
       "      <td>FAKE</td>\n",
       "    </tr>\n",
       "    <tr>\n",
       "      <td>37</td>\n",
       "      <td>8965</td>\n",
       "      <td>Donald Groped Hillary in 2005! Trump and Weine...</td>\n",
       "      <td>Topics: anthony weiner , presidential politics...</td>\n",
       "      <td>FAKE</td>\n",
       "    </tr>\n",
       "    <tr>\n",
       "      <td>38</td>\n",
       "      <td>5580</td>\n",
       "      <td>Ex-Assistant FBI Director: Clintons Are a Crim...</td>\n",
       "      <td>Ex-Assistant FBI Director: Clintons Are a Crim...</td>\n",
       "      <td>FAKE</td>\n",
       "    </tr>\n",
       "    <tr>\n",
       "      <td>39</td>\n",
       "      <td>9757</td>\n",
       "      <td>Hillary Wants Aggressively Interventionist For...</td>\n",
       "      <td>10-27-1 6 The first Bill and Hillary Clinton c...</td>\n",
       "      <td>FAKE</td>\n",
       "    </tr>\n",
       "    <tr>\n",
       "      <td>40</td>\n",
       "      <td>1967</td>\n",
       "      <td>Both parties want to craft populist messages f...</td>\n",
       "      <td>Presidential hopefuls in both parties agree on...</td>\n",
       "      <td>REAL</td>\n",
       "    </tr>\n",
       "    <tr>\n",
       "      <td>41</td>\n",
       "      <td>431</td>\n",
       "      <td>First Take: Wall Street bids goodbye to June hike</td>\n",
       "      <td>NEW YORK -- Bye bye June rate hike. That was t...</td>\n",
       "      <td>REAL</td>\n",
       "    </tr>\n",
       "    <tr>\n",
       "      <td>42</td>\n",
       "      <td>5955</td>\n",
       "      <td>Real Disclosure! Secret Alien Base Found In Mo...</td>\n",
       "      <td>Real Disclosure! Secret Alien Base Found In Mo...</td>\n",
       "      <td>FAKE</td>\n",
       "    </tr>\n",
       "    <tr>\n",
       "      <td>43</td>\n",
       "      <td>7455</td>\n",
       "      <td>Homeless Woman Protects Trump’s Walk of Fame S...</td>\n",
       "      <td>Homeless Woman Protects Trump’s Walk of Fame S...</td>\n",
       "      <td>FAKE</td>\n",
       "    </tr>\n",
       "    <tr>\n",
       "      <td>44</td>\n",
       "      <td>5224</td>\n",
       "      <td>With 3:20 a.m. tweet storm Saturday, Clinton c...</td>\n",
       "      <td>WHITE PLAINS, N.Y. — Not to be outdone by her ...</td>\n",
       "      <td>REAL</td>\n",
       "    </tr>\n",
       "    <tr>\n",
       "      <td>45</td>\n",
       "      <td>7793</td>\n",
       "      <td>220 ‘Significant’ Pipeline Spills Already This...</td>\n",
       "      <td>By Dan Zukowski\\nThree major U.S. pipeline spi...</td>\n",
       "      <td>FAKE</td>\n",
       "    </tr>\n",
       "    <tr>\n",
       "      <td>46</td>\n",
       "      <td>2777</td>\n",
       "      <td>Obama makes the right call to tough it out in ...</td>\n",
       "      <td>The president now plans to continue a U.S. gro...</td>\n",
       "      <td>REAL</td>\n",
       "    </tr>\n",
       "    <tr>\n",
       "      <td>47</td>\n",
       "      <td>587</td>\n",
       "      <td>Senate race rankings: Dems attack as GOP lays ...</td>\n",
       "      <td>The move would make it easier for the Trump ad...</td>\n",
       "      <td>REAL</td>\n",
       "    </tr>\n",
       "    <tr>\n",
       "      <td>48</td>\n",
       "      <td>9403</td>\n",
       "      <td>‘He didn’t know the boy didn’t want to be rape...</td>\n",
       "      <td>By INDRA WARNES \\nIn a truly shocking twist th...</td>\n",
       "      <td>FAKE</td>\n",
       "    </tr>\n",
       "    <tr>\n",
       "      <td>49</td>\n",
       "      <td>5931</td>\n",
       "      <td>Pieczenik “Rogue FBI Agents and Wikileaks are ...</td>\n",
       "      <td>Breaking News Pieczenik “Rogue FBI Agents and ...</td>\n",
       "      <td>FAKE</td>\n",
       "    </tr>\n",
       "    <tr>\n",
       "      <td>50</td>\n",
       "      <td>3027</td>\n",
       "      <td>American politics has reached peak polarization</td>\n",
       "      <td>For a long time in American politics, we've be...</td>\n",
       "      <td>REAL</td>\n",
       "    </tr>\n",
       "    <tr>\n",
       "      <td>51</td>\n",
       "      <td>4377</td>\n",
       "      <td>Anti-Muhammad cartoon contest: Free speech or ...</td>\n",
       "      <td>Sponsors say that the shootings in Garland, Te...</td>\n",
       "      <td>REAL</td>\n",
       "    </tr>\n",
       "    <tr>\n",
       "      <td>52</td>\n",
       "      <td>5937</td>\n",
       "      <td>3 Effects of Substance Abuse on Individual, Fa...</td>\n",
       "      <td>Drug and substance abuse has ruined and taken ...</td>\n",
       "      <td>FAKE</td>\n",
       "    </tr>\n",
       "    <tr>\n",
       "      <td>53</td>\n",
       "      <td>7277</td>\n",
       "      <td>Tree Shaped Vertical Farms That Grow 24 Acres ...</td>\n",
       "      <td>By Amanda Froelich This tree-like skyscraper i...</td>\n",
       "      <td>FAKE</td>\n",
       "    </tr>\n",
       "    <tr>\n",
       "      <td>54</td>\n",
       "      <td>5521</td>\n",
       "      <td>New Comment Features have been Added</td>\n",
       "      <td>Be the First to Comment! Leave a Reply Click h...</td>\n",
       "      <td>FAKE</td>\n",
       "    </tr>\n",
       "    <tr>\n",
       "      <td>55</td>\n",
       "      <td>3627</td>\n",
       "      <td>World's newspapers react to 'Hebdo' attack</td>\n",
       "      <td>The world watched in shock on Wednesday as Fre...</td>\n",
       "      <td>REAL</td>\n",
       "    </tr>\n",
       "    <tr>\n",
       "      <td>56</td>\n",
       "      <td>9360</td>\n",
       "      <td>Ying and Yang (the Gold and Silver Set-Up)</td>\n",
       "      <td>Ying and Yang (the Gold and Silver Set-Up) Pos...</td>\n",
       "      <td>FAKE</td>\n",
       "    </tr>\n",
       "    <tr>\n",
       "      <td>57</td>\n",
       "      <td>909</td>\n",
       "      <td>Closed primaries, 'warped' democracy?</td>\n",
       "      <td>Political parties choose their presidential no...</td>\n",
       "      <td>REAL</td>\n",
       "    </tr>\n",
       "    <tr>\n",
       "      <td>58</td>\n",
       "      <td>6646</td>\n",
       "      <td>Police Turn In Badges Rather Than Incite Viole...</td>\n",
       "      <td>It should be evident if you’re following news ...</td>\n",
       "      <td>FAKE</td>\n",
       "    </tr>\n",
       "    <tr>\n",
       "      <td>59</td>\n",
       "      <td>1522</td>\n",
       "      <td>Donald Trump: Hillary Clinton has 'caused trem...</td>\n",
       "      <td>Republican presidential front-runner Donald Tr...</td>\n",
       "      <td>REAL</td>\n",
       "    </tr>\n",
       "  </tbody>\n",
       "</table>\n",
       "</div>"
      ],
      "text/plain": [
       "    Unnamed: 0                                              title  \\\n",
       "0         8476                       You Can Smell Hillary’s Fear   \n",
       "1        10294  Watch The Exact Moment Paul Ryan Committed Pol...   \n",
       "2         3608        Kerry to go to Paris in gesture of sympathy   \n",
       "3        10142  Bernie supporters on Twitter erupt in anger ag...   \n",
       "4          875   The Battle of New York: Why This Primary Matters   \n",
       "5         6903                                        Tehran, USA   \n",
       "6         7341  Girl Horrified At What She Watches Boyfriend D...   \n",
       "7           95                  ‘Britain’s Schindler’ Dies at 106   \n",
       "8         4869  Fact check: Trump and Clinton at the 'commande...   \n",
       "9         2909  Iran reportedly makes new push for uranium con...   \n",
       "10        1357  With all three Clintons in Iowa, a glimpse at ...   \n",
       "11         988  Donald Trump’s Shockingly Weak Delegate Game S...   \n",
       "12        7041  Strong Solar Storm, Tech Risks Today | S0 News...   \n",
       "13        7623       10 Ways America Is Preparing for World War 3   \n",
       "14        1571                   Trump takes on Cruz, but lightly   \n",
       "15        4739                         How women lead differently   \n",
       "16        7737  Shocking! Michele Obama & Hillary Caught Glamo...   \n",
       "17        8716  Hillary Clinton in HUGE Trouble After America ...   \n",
       "18        3304  What's in that Iran bill that Obama doesn't like?   \n",
       "19        3078  The 1 chart that explains everything you need ...   \n",
       "20        2517  The slippery slope to Trump’s proposed ban on ...   \n",
       "21       10348  Episode #160 – SUNDAY WIRE: ‘Hail to the Deplo...   \n",
       "22         778  Hillary Clinton Makes A Bipartisan Appeal on S...   \n",
       "23        3300  New Senate majority leader’s main goal for GOP...   \n",
       "24        6155              ‘Inferno’ and the Overpopulation Myth   \n",
       "25         636  Anti-Trump forces seek last-ditch delegate revolt   \n",
       "26         755  Sanders Trounces Clinton in W. Va. -- But Will...   \n",
       "27         626  Donald Trump Is Changing His Campaign Slogan t...   \n",
       "28         691  Pure chaos: Donald Trump’s campaign management...   \n",
       "29        5743  Syrian War Report – November 1, 2016: Syrian M...   \n",
       "30        1787                     GOP insiders: Carly crushed it   \n",
       "31        7808  Jeffrey Sewell et al. : Metabiology face to fa...   \n",
       "32        6484         Why It’s Necessary To Relax Into A Stretch   \n",
       "33        7385  Brexit Encourages UK to Trade With Non-EU Stat...   \n",
       "34        9016  2016 interview with Socrates: Another day of L...   \n",
       "35        9324  Mike Pence Drapes Shawl Over Immodest Lady Jus...   \n",
       "36        8983       First Ever Hindu Woman Elected into Congress   \n",
       "37        8965  Donald Groped Hillary in 2005! Trump and Weine...   \n",
       "38        5580  Ex-Assistant FBI Director: Clintons Are a Crim...   \n",
       "39        9757  Hillary Wants Aggressively Interventionist For...   \n",
       "40        1967  Both parties want to craft populist messages f...   \n",
       "41         431  First Take: Wall Street bids goodbye to June hike   \n",
       "42        5955  Real Disclosure! Secret Alien Base Found In Mo...   \n",
       "43        7455  Homeless Woman Protects Trump’s Walk of Fame S...   \n",
       "44        5224  With 3:20 a.m. tweet storm Saturday, Clinton c...   \n",
       "45        7793  220 ‘Significant’ Pipeline Spills Already This...   \n",
       "46        2777  Obama makes the right call to tough it out in ...   \n",
       "47         587  Senate race rankings: Dems attack as GOP lays ...   \n",
       "48        9403  ‘He didn’t know the boy didn’t want to be rape...   \n",
       "49        5931  Pieczenik “Rogue FBI Agents and Wikileaks are ...   \n",
       "50        3027    American politics has reached peak polarization   \n",
       "51        4377  Anti-Muhammad cartoon contest: Free speech or ...   \n",
       "52        5937  3 Effects of Substance Abuse on Individual, Fa...   \n",
       "53        7277  Tree Shaped Vertical Farms That Grow 24 Acres ...   \n",
       "54        5521               New Comment Features have been Added   \n",
       "55        3627         World's newspapers react to 'Hebdo' attack   \n",
       "56        9360         Ying and Yang (the Gold and Silver Set-Up)   \n",
       "57         909              Closed primaries, 'warped' democracy?   \n",
       "58        6646  Police Turn In Badges Rather Than Incite Viole...   \n",
       "59        1522  Donald Trump: Hillary Clinton has 'caused trem...   \n",
       "\n",
       "                                                 text label  \n",
       "0   Daniel Greenfield, a Shillman Journalism Fello...  FAKE  \n",
       "1   Google Pinterest Digg Linkedin Reddit Stumbleu...  FAKE  \n",
       "2   U.S. Secretary of State John F. Kerry said Mon...  REAL  \n",
       "3   — Kaydee King (@KaydeeKing) November 9, 2016 T...  FAKE  \n",
       "4   It's primary day in New York and front-runners...  REAL  \n",
       "5     \\nI’m not an immigrant, but my grandparents ...  FAKE  \n",
       "6   Share This Baylee Luciani (left), Screenshot o...  FAKE  \n",
       "7   A Czech stockbroker who saved more than 650 Je...  REAL  \n",
       "8   Hillary Clinton and Donald Trump made some ina...  REAL  \n",
       "9   Iranian negotiators reportedly have made a las...  REAL  \n",
       "10  CEDAR RAPIDS, Iowa — “I had one of the most wo...  REAL  \n",
       "11  Donald Trump’s organizational problems have go...  REAL  \n",
       "12  Click Here To Learn More About Alexandra's Per...  FAKE  \n",
       "13  October 31, 2016 at 4:52 am \\nPretty factual e...  FAKE  \n",
       "14  Killing Obama administration rules, dismantlin...  REAL  \n",
       "15  As more women move into high offices, they oft...  REAL  \n",
       "16  Shocking! Michele Obama & Hillary Caught Glamo...  FAKE  \n",
       "17  0 \\nHillary Clinton has barely just lost the p...  FAKE  \n",
       "18  Washington (CNN) For months, the White House a...  REAL  \n",
       "19  While paging through Pew's best data visualiza...  REAL  \n",
       "20  With little fanfare this fall, the New York de...  REAL  \n",
       "21  November 13, 2016 By 21wire Leave a Comment \\n...  FAKE  \n",
       "22  Hillary Clinton told a Staten Island crowd tod...  REAL  \n",
       "23  Mitch McConnell has an unusual admonition for ...  REAL  \n",
       "24  Mises.org November 1, 2016 Inferno is a great ...  FAKE  \n",
       "25  Washington (CNN) The faction of the GOP that i...  REAL  \n",
       "26  Meanwhile, Democrat Bernie Sanders picked up m...  REAL  \n",
       "27  After a week of nonstop criticism from Democra...  REAL  \n",
       "28  If you want a glimpse into a presidential cand...  REAL  \n",
       "29  Syrian War Report – October 31, 2016: Al-Nusra...  FAKE  \n",
       "30  On this day in 1973, J. Fred Buzhardt, a lawye...  REAL  \n",
       "31  Randy Maugans & Jeffrey Sewell | Metabiology f...  FAKE  \n",
       "32  In a previous article , I discussed stretching...  FAKE  \n",
       "33  Britain and EU After Brexit ( 31 ) 0 13 0 0 Br...  FAKE  \n",
       "34  Posted on October 27, 2016 by Carl Herman \\n“I...  FAKE  \n",
       "35  Trump Raises Concern Over Members Of Urban Com...  FAKE  \n",
       "36  First ever Hindu was elected to the US House o...  FAKE  \n",
       "37  Topics: anthony weiner , presidential politics...  FAKE  \n",
       "38  Ex-Assistant FBI Director: Clintons Are a Crim...  FAKE  \n",
       "39  10-27-1 6 The first Bill and Hillary Clinton c...  FAKE  \n",
       "40  Presidential hopefuls in both parties agree on...  REAL  \n",
       "41  NEW YORK -- Bye bye June rate hike. That was t...  REAL  \n",
       "42  Real Disclosure! Secret Alien Base Found In Mo...  FAKE  \n",
       "43  Homeless Woman Protects Trump’s Walk of Fame S...  FAKE  \n",
       "44  WHITE PLAINS, N.Y. — Not to be outdone by her ...  REAL  \n",
       "45  By Dan Zukowski\\nThree major U.S. pipeline spi...  FAKE  \n",
       "46  The president now plans to continue a U.S. gro...  REAL  \n",
       "47  The move would make it easier for the Trump ad...  REAL  \n",
       "48  By INDRA WARNES \\nIn a truly shocking twist th...  FAKE  \n",
       "49  Breaking News Pieczenik “Rogue FBI Agents and ...  FAKE  \n",
       "50  For a long time in American politics, we've be...  REAL  \n",
       "51  Sponsors say that the shootings in Garland, Te...  REAL  \n",
       "52  Drug and substance abuse has ruined and taken ...  FAKE  \n",
       "53  By Amanda Froelich This tree-like skyscraper i...  FAKE  \n",
       "54  Be the First to Comment! Leave a Reply Click h...  FAKE  \n",
       "55  The world watched in shock on Wednesday as Fre...  REAL  \n",
       "56  Ying and Yang (the Gold and Silver Set-Up) Pos...  FAKE  \n",
       "57  Political parties choose their presidential no...  REAL  \n",
       "58  It should be evident if you’re following news ...  FAKE  \n",
       "59  Republican presidential front-runner Donald Tr...  REAL  "
      ]
     },
     "execution_count": 106,
     "metadata": {},
     "output_type": "execute_result"
    }
   ],
   "source": [
    "df = pd.read_csv('C:/Users/Yash/Desktop/Fake News/fake_or_real_news.csv')\n",
    "\n",
    "df.head(60)"
   ]
  },
  {
   "cell_type": "code",
   "execution_count": 108,
   "metadata": {},
   "outputs": [
    {
     "data": {
      "text/plain": [
       "(6335, 4)"
      ]
     },
     "execution_count": 108,
     "metadata": {},
     "output_type": "execute_result"
    }
   ],
   "source": [
    "df.shape"
   ]
  },
  {
   "cell_type": "code",
   "execution_count": 109,
   "metadata": {},
   "outputs": [
    {
     "data": {
      "text/plain": [
       "Index(['Unnamed: 0', 'title', 'text', 'label'], dtype='object')"
      ]
     },
     "execution_count": 109,
     "metadata": {},
     "output_type": "execute_result"
    }
   ],
   "source": [
    "df.columns"
   ]
  },
  {
   "cell_type": "code",
   "execution_count": 110,
   "metadata": {},
   "outputs": [],
   "source": [
    "df.drop_duplicates(inplace = True)"
   ]
  },
  {
   "cell_type": "code",
   "execution_count": 111,
   "metadata": {},
   "outputs": [
    {
     "data": {
      "text/plain": [
       "(6335, 4)"
      ]
     },
     "execution_count": 111,
     "metadata": {},
     "output_type": "execute_result"
    }
   ],
   "source": [
    "df.shape"
   ]
  },
  {
   "cell_type": "code",
   "execution_count": 112,
   "metadata": {},
   "outputs": [],
   "source": [
    "df.loc[df[\"label\"]==\"FAKE\",\"label\"]=0\n",
    "df.loc[df[\"label\"]==\"REAL\",\"label\"]=1"
   ]
  },
  {
   "cell_type": "code",
   "execution_count": 114,
   "metadata": {},
   "outputs": [
    {
     "data": {
      "text/html": [
       "<div>\n",
       "<style scoped>\n",
       "    .dataframe tbody tr th:only-of-type {\n",
       "        vertical-align: middle;\n",
       "    }\n",
       "\n",
       "    .dataframe tbody tr th {\n",
       "        vertical-align: top;\n",
       "    }\n",
       "\n",
       "    .dataframe thead th {\n",
       "        text-align: right;\n",
       "    }\n",
       "</style>\n",
       "<table border=\"1\" class=\"dataframe\">\n",
       "  <thead>\n",
       "    <tr style=\"text-align: right;\">\n",
       "      <th></th>\n",
       "      <th>Unnamed: 0</th>\n",
       "      <th>title</th>\n",
       "      <th>text</th>\n",
       "      <th>label</th>\n",
       "    </tr>\n",
       "  </thead>\n",
       "  <tbody>\n",
       "    <tr>\n",
       "      <td>0</td>\n",
       "      <td>8476</td>\n",
       "      <td>You Can Smell Hillary’s Fear</td>\n",
       "      <td>Daniel Greenfield, a Shillman Journalism Fello...</td>\n",
       "      <td>0</td>\n",
       "    </tr>\n",
       "    <tr>\n",
       "      <td>1</td>\n",
       "      <td>10294</td>\n",
       "      <td>Watch The Exact Moment Paul Ryan Committed Pol...</td>\n",
       "      <td>Google Pinterest Digg Linkedin Reddit Stumbleu...</td>\n",
       "      <td>0</td>\n",
       "    </tr>\n",
       "    <tr>\n",
       "      <td>2</td>\n",
       "      <td>3608</td>\n",
       "      <td>Kerry to go to Paris in gesture of sympathy</td>\n",
       "      <td>U.S. Secretary of State John F. Kerry said Mon...</td>\n",
       "      <td>1</td>\n",
       "    </tr>\n",
       "    <tr>\n",
       "      <td>3</td>\n",
       "      <td>10142</td>\n",
       "      <td>Bernie supporters on Twitter erupt in anger ag...</td>\n",
       "      <td>— Kaydee King (@KaydeeKing) November 9, 2016 T...</td>\n",
       "      <td>0</td>\n",
       "    </tr>\n",
       "    <tr>\n",
       "      <td>4</td>\n",
       "      <td>875</td>\n",
       "      <td>The Battle of New York: Why This Primary Matters</td>\n",
       "      <td>It's primary day in New York and front-runners...</td>\n",
       "      <td>1</td>\n",
       "    </tr>\n",
       "    <tr>\n",
       "      <td>5</td>\n",
       "      <td>6903</td>\n",
       "      <td>Tehran, USA</td>\n",
       "      <td>\\nI’m not an immigrant, but my grandparents ...</td>\n",
       "      <td>0</td>\n",
       "    </tr>\n",
       "    <tr>\n",
       "      <td>6</td>\n",
       "      <td>7341</td>\n",
       "      <td>Girl Horrified At What She Watches Boyfriend D...</td>\n",
       "      <td>Share This Baylee Luciani (left), Screenshot o...</td>\n",
       "      <td>0</td>\n",
       "    </tr>\n",
       "    <tr>\n",
       "      <td>7</td>\n",
       "      <td>95</td>\n",
       "      <td>‘Britain’s Schindler’ Dies at 106</td>\n",
       "      <td>A Czech stockbroker who saved more than 650 Je...</td>\n",
       "      <td>1</td>\n",
       "    </tr>\n",
       "    <tr>\n",
       "      <td>8</td>\n",
       "      <td>4869</td>\n",
       "      <td>Fact check: Trump and Clinton at the 'commande...</td>\n",
       "      <td>Hillary Clinton and Donald Trump made some ina...</td>\n",
       "      <td>1</td>\n",
       "    </tr>\n",
       "    <tr>\n",
       "      <td>9</td>\n",
       "      <td>2909</td>\n",
       "      <td>Iran reportedly makes new push for uranium con...</td>\n",
       "      <td>Iranian negotiators reportedly have made a las...</td>\n",
       "      <td>1</td>\n",
       "    </tr>\n",
       "    <tr>\n",
       "      <td>10</td>\n",
       "      <td>1357</td>\n",
       "      <td>With all three Clintons in Iowa, a glimpse at ...</td>\n",
       "      <td>CEDAR RAPIDS, Iowa — “I had one of the most wo...</td>\n",
       "      <td>1</td>\n",
       "    </tr>\n",
       "    <tr>\n",
       "      <td>11</td>\n",
       "      <td>988</td>\n",
       "      <td>Donald Trump’s Shockingly Weak Delegate Game S...</td>\n",
       "      <td>Donald Trump’s organizational problems have go...</td>\n",
       "      <td>1</td>\n",
       "    </tr>\n",
       "    <tr>\n",
       "      <td>12</td>\n",
       "      <td>7041</td>\n",
       "      <td>Strong Solar Storm, Tech Risks Today | S0 News...</td>\n",
       "      <td>Click Here To Learn More About Alexandra's Per...</td>\n",
       "      <td>0</td>\n",
       "    </tr>\n",
       "    <tr>\n",
       "      <td>13</td>\n",
       "      <td>7623</td>\n",
       "      <td>10 Ways America Is Preparing for World War 3</td>\n",
       "      <td>October 31, 2016 at 4:52 am \\nPretty factual e...</td>\n",
       "      <td>0</td>\n",
       "    </tr>\n",
       "    <tr>\n",
       "      <td>14</td>\n",
       "      <td>1571</td>\n",
       "      <td>Trump takes on Cruz, but lightly</td>\n",
       "      <td>Killing Obama administration rules, dismantlin...</td>\n",
       "      <td>1</td>\n",
       "    </tr>\n",
       "    <tr>\n",
       "      <td>15</td>\n",
       "      <td>4739</td>\n",
       "      <td>How women lead differently</td>\n",
       "      <td>As more women move into high offices, they oft...</td>\n",
       "      <td>1</td>\n",
       "    </tr>\n",
       "    <tr>\n",
       "      <td>16</td>\n",
       "      <td>7737</td>\n",
       "      <td>Shocking! Michele Obama &amp; Hillary Caught Glamo...</td>\n",
       "      <td>Shocking! Michele Obama &amp; Hillary Caught Glamo...</td>\n",
       "      <td>0</td>\n",
       "    </tr>\n",
       "    <tr>\n",
       "      <td>17</td>\n",
       "      <td>8716</td>\n",
       "      <td>Hillary Clinton in HUGE Trouble After America ...</td>\n",
       "      <td>0 \\nHillary Clinton has barely just lost the p...</td>\n",
       "      <td>0</td>\n",
       "    </tr>\n",
       "    <tr>\n",
       "      <td>18</td>\n",
       "      <td>3304</td>\n",
       "      <td>What's in that Iran bill that Obama doesn't like?</td>\n",
       "      <td>Washington (CNN) For months, the White House a...</td>\n",
       "      <td>1</td>\n",
       "    </tr>\n",
       "    <tr>\n",
       "      <td>19</td>\n",
       "      <td>3078</td>\n",
       "      <td>The 1 chart that explains everything you need ...</td>\n",
       "      <td>While paging through Pew's best data visualiza...</td>\n",
       "      <td>1</td>\n",
       "    </tr>\n",
       "    <tr>\n",
       "      <td>20</td>\n",
       "      <td>2517</td>\n",
       "      <td>The slippery slope to Trump’s proposed ban on ...</td>\n",
       "      <td>With little fanfare this fall, the New York de...</td>\n",
       "      <td>1</td>\n",
       "    </tr>\n",
       "    <tr>\n",
       "      <td>21</td>\n",
       "      <td>10348</td>\n",
       "      <td>Episode #160 – SUNDAY WIRE: ‘Hail to the Deplo...</td>\n",
       "      <td>November 13, 2016 By 21wire Leave a Comment \\n...</td>\n",
       "      <td>0</td>\n",
       "    </tr>\n",
       "    <tr>\n",
       "      <td>22</td>\n",
       "      <td>778</td>\n",
       "      <td>Hillary Clinton Makes A Bipartisan Appeal on S...</td>\n",
       "      <td>Hillary Clinton told a Staten Island crowd tod...</td>\n",
       "      <td>1</td>\n",
       "    </tr>\n",
       "    <tr>\n",
       "      <td>23</td>\n",
       "      <td>3300</td>\n",
       "      <td>New Senate majority leader’s main goal for GOP...</td>\n",
       "      <td>Mitch McConnell has an unusual admonition for ...</td>\n",
       "      <td>1</td>\n",
       "    </tr>\n",
       "    <tr>\n",
       "      <td>24</td>\n",
       "      <td>6155</td>\n",
       "      <td>‘Inferno’ and the Overpopulation Myth</td>\n",
       "      <td>Mises.org November 1, 2016 Inferno is a great ...</td>\n",
       "      <td>0</td>\n",
       "    </tr>\n",
       "    <tr>\n",
       "      <td>25</td>\n",
       "      <td>636</td>\n",
       "      <td>Anti-Trump forces seek last-ditch delegate revolt</td>\n",
       "      <td>Washington (CNN) The faction of the GOP that i...</td>\n",
       "      <td>1</td>\n",
       "    </tr>\n",
       "    <tr>\n",
       "      <td>26</td>\n",
       "      <td>755</td>\n",
       "      <td>Sanders Trounces Clinton in W. Va. -- But Will...</td>\n",
       "      <td>Meanwhile, Democrat Bernie Sanders picked up m...</td>\n",
       "      <td>1</td>\n",
       "    </tr>\n",
       "    <tr>\n",
       "      <td>27</td>\n",
       "      <td>626</td>\n",
       "      <td>Donald Trump Is Changing His Campaign Slogan t...</td>\n",
       "      <td>After a week of nonstop criticism from Democra...</td>\n",
       "      <td>1</td>\n",
       "    </tr>\n",
       "    <tr>\n",
       "      <td>28</td>\n",
       "      <td>691</td>\n",
       "      <td>Pure chaos: Donald Trump’s campaign management...</td>\n",
       "      <td>If you want a glimpse into a presidential cand...</td>\n",
       "      <td>1</td>\n",
       "    </tr>\n",
       "    <tr>\n",
       "      <td>29</td>\n",
       "      <td>5743</td>\n",
       "      <td>Syrian War Report – November 1, 2016: Syrian M...</td>\n",
       "      <td>Syrian War Report – October 31, 2016: Al-Nusra...</td>\n",
       "      <td>0</td>\n",
       "    </tr>\n",
       "    <tr>\n",
       "      <td>30</td>\n",
       "      <td>1787</td>\n",
       "      <td>GOP insiders: Carly crushed it</td>\n",
       "      <td>On this day in 1973, J. Fred Buzhardt, a lawye...</td>\n",
       "      <td>1</td>\n",
       "    </tr>\n",
       "    <tr>\n",
       "      <td>31</td>\n",
       "      <td>7808</td>\n",
       "      <td>Jeffrey Sewell et al. : Metabiology face to fa...</td>\n",
       "      <td>Randy Maugans &amp; Jeffrey Sewell | Metabiology f...</td>\n",
       "      <td>0</td>\n",
       "    </tr>\n",
       "    <tr>\n",
       "      <td>32</td>\n",
       "      <td>6484</td>\n",
       "      <td>Why It’s Necessary To Relax Into A Stretch</td>\n",
       "      <td>In a previous article , I discussed stretching...</td>\n",
       "      <td>0</td>\n",
       "    </tr>\n",
       "    <tr>\n",
       "      <td>33</td>\n",
       "      <td>7385</td>\n",
       "      <td>Brexit Encourages UK to Trade With Non-EU Stat...</td>\n",
       "      <td>Britain and EU After Brexit ( 31 ) 0 13 0 0 Br...</td>\n",
       "      <td>0</td>\n",
       "    </tr>\n",
       "    <tr>\n",
       "      <td>34</td>\n",
       "      <td>9016</td>\n",
       "      <td>2016 interview with Socrates: Another day of L...</td>\n",
       "      <td>Posted on October 27, 2016 by Carl Herman \\n“I...</td>\n",
       "      <td>0</td>\n",
       "    </tr>\n",
       "    <tr>\n",
       "      <td>35</td>\n",
       "      <td>9324</td>\n",
       "      <td>Mike Pence Drapes Shawl Over Immodest Lady Jus...</td>\n",
       "      <td>Trump Raises Concern Over Members Of Urban Com...</td>\n",
       "      <td>0</td>\n",
       "    </tr>\n",
       "    <tr>\n",
       "      <td>36</td>\n",
       "      <td>8983</td>\n",
       "      <td>First Ever Hindu Woman Elected into Congress</td>\n",
       "      <td>First ever Hindu was elected to the US House o...</td>\n",
       "      <td>0</td>\n",
       "    </tr>\n",
       "    <tr>\n",
       "      <td>37</td>\n",
       "      <td>8965</td>\n",
       "      <td>Donald Groped Hillary in 2005! Trump and Weine...</td>\n",
       "      <td>Topics: anthony weiner , presidential politics...</td>\n",
       "      <td>0</td>\n",
       "    </tr>\n",
       "    <tr>\n",
       "      <td>38</td>\n",
       "      <td>5580</td>\n",
       "      <td>Ex-Assistant FBI Director: Clintons Are a Crim...</td>\n",
       "      <td>Ex-Assistant FBI Director: Clintons Are a Crim...</td>\n",
       "      <td>0</td>\n",
       "    </tr>\n",
       "    <tr>\n",
       "      <td>39</td>\n",
       "      <td>9757</td>\n",
       "      <td>Hillary Wants Aggressively Interventionist For...</td>\n",
       "      <td>10-27-1 6 The first Bill and Hillary Clinton c...</td>\n",
       "      <td>0</td>\n",
       "    </tr>\n",
       "    <tr>\n",
       "      <td>40</td>\n",
       "      <td>1967</td>\n",
       "      <td>Both parties want to craft populist messages f...</td>\n",
       "      <td>Presidential hopefuls in both parties agree on...</td>\n",
       "      <td>1</td>\n",
       "    </tr>\n",
       "    <tr>\n",
       "      <td>41</td>\n",
       "      <td>431</td>\n",
       "      <td>First Take: Wall Street bids goodbye to June hike</td>\n",
       "      <td>NEW YORK -- Bye bye June rate hike. That was t...</td>\n",
       "      <td>1</td>\n",
       "    </tr>\n",
       "    <tr>\n",
       "      <td>42</td>\n",
       "      <td>5955</td>\n",
       "      <td>Real Disclosure! Secret Alien Base Found In Mo...</td>\n",
       "      <td>Real Disclosure! Secret Alien Base Found In Mo...</td>\n",
       "      <td>0</td>\n",
       "    </tr>\n",
       "    <tr>\n",
       "      <td>43</td>\n",
       "      <td>7455</td>\n",
       "      <td>Homeless Woman Protects Trump’s Walk of Fame S...</td>\n",
       "      <td>Homeless Woman Protects Trump’s Walk of Fame S...</td>\n",
       "      <td>0</td>\n",
       "    </tr>\n",
       "    <tr>\n",
       "      <td>44</td>\n",
       "      <td>5224</td>\n",
       "      <td>With 3:20 a.m. tweet storm Saturday, Clinton c...</td>\n",
       "      <td>WHITE PLAINS, N.Y. — Not to be outdone by her ...</td>\n",
       "      <td>1</td>\n",
       "    </tr>\n",
       "    <tr>\n",
       "      <td>45</td>\n",
       "      <td>7793</td>\n",
       "      <td>220 ‘Significant’ Pipeline Spills Already This...</td>\n",
       "      <td>By Dan Zukowski\\nThree major U.S. pipeline spi...</td>\n",
       "      <td>0</td>\n",
       "    </tr>\n",
       "    <tr>\n",
       "      <td>46</td>\n",
       "      <td>2777</td>\n",
       "      <td>Obama makes the right call to tough it out in ...</td>\n",
       "      <td>The president now plans to continue a U.S. gro...</td>\n",
       "      <td>1</td>\n",
       "    </tr>\n",
       "    <tr>\n",
       "      <td>47</td>\n",
       "      <td>587</td>\n",
       "      <td>Senate race rankings: Dems attack as GOP lays ...</td>\n",
       "      <td>The move would make it easier for the Trump ad...</td>\n",
       "      <td>1</td>\n",
       "    </tr>\n",
       "    <tr>\n",
       "      <td>48</td>\n",
       "      <td>9403</td>\n",
       "      <td>‘He didn’t know the boy didn’t want to be rape...</td>\n",
       "      <td>By INDRA WARNES \\nIn a truly shocking twist th...</td>\n",
       "      <td>0</td>\n",
       "    </tr>\n",
       "    <tr>\n",
       "      <td>49</td>\n",
       "      <td>5931</td>\n",
       "      <td>Pieczenik “Rogue FBI Agents and Wikileaks are ...</td>\n",
       "      <td>Breaking News Pieczenik “Rogue FBI Agents and ...</td>\n",
       "      <td>0</td>\n",
       "    </tr>\n",
       "    <tr>\n",
       "      <td>50</td>\n",
       "      <td>3027</td>\n",
       "      <td>American politics has reached peak polarization</td>\n",
       "      <td>For a long time in American politics, we've be...</td>\n",
       "      <td>1</td>\n",
       "    </tr>\n",
       "    <tr>\n",
       "      <td>51</td>\n",
       "      <td>4377</td>\n",
       "      <td>Anti-Muhammad cartoon contest: Free speech or ...</td>\n",
       "      <td>Sponsors say that the shootings in Garland, Te...</td>\n",
       "      <td>1</td>\n",
       "    </tr>\n",
       "    <tr>\n",
       "      <td>52</td>\n",
       "      <td>5937</td>\n",
       "      <td>3 Effects of Substance Abuse on Individual, Fa...</td>\n",
       "      <td>Drug and substance abuse has ruined and taken ...</td>\n",
       "      <td>0</td>\n",
       "    </tr>\n",
       "    <tr>\n",
       "      <td>53</td>\n",
       "      <td>7277</td>\n",
       "      <td>Tree Shaped Vertical Farms That Grow 24 Acres ...</td>\n",
       "      <td>By Amanda Froelich This tree-like skyscraper i...</td>\n",
       "      <td>0</td>\n",
       "    </tr>\n",
       "    <tr>\n",
       "      <td>54</td>\n",
       "      <td>5521</td>\n",
       "      <td>New Comment Features have been Added</td>\n",
       "      <td>Be the First to Comment! Leave a Reply Click h...</td>\n",
       "      <td>0</td>\n",
       "    </tr>\n",
       "    <tr>\n",
       "      <td>55</td>\n",
       "      <td>3627</td>\n",
       "      <td>World's newspapers react to 'Hebdo' attack</td>\n",
       "      <td>The world watched in shock on Wednesday as Fre...</td>\n",
       "      <td>1</td>\n",
       "    </tr>\n",
       "    <tr>\n",
       "      <td>56</td>\n",
       "      <td>9360</td>\n",
       "      <td>Ying and Yang (the Gold and Silver Set-Up)</td>\n",
       "      <td>Ying and Yang (the Gold and Silver Set-Up) Pos...</td>\n",
       "      <td>0</td>\n",
       "    </tr>\n",
       "    <tr>\n",
       "      <td>57</td>\n",
       "      <td>909</td>\n",
       "      <td>Closed primaries, 'warped' democracy?</td>\n",
       "      <td>Political parties choose their presidential no...</td>\n",
       "      <td>1</td>\n",
       "    </tr>\n",
       "    <tr>\n",
       "      <td>58</td>\n",
       "      <td>6646</td>\n",
       "      <td>Police Turn In Badges Rather Than Incite Viole...</td>\n",
       "      <td>It should be evident if you’re following news ...</td>\n",
       "      <td>0</td>\n",
       "    </tr>\n",
       "    <tr>\n",
       "      <td>59</td>\n",
       "      <td>1522</td>\n",
       "      <td>Donald Trump: Hillary Clinton has 'caused trem...</td>\n",
       "      <td>Republican presidential front-runner Donald Tr...</td>\n",
       "      <td>1</td>\n",
       "    </tr>\n",
       "  </tbody>\n",
       "</table>\n",
       "</div>"
      ],
      "text/plain": [
       "    Unnamed: 0                                              title  \\\n",
       "0         8476                       You Can Smell Hillary’s Fear   \n",
       "1        10294  Watch The Exact Moment Paul Ryan Committed Pol...   \n",
       "2         3608        Kerry to go to Paris in gesture of sympathy   \n",
       "3        10142  Bernie supporters on Twitter erupt in anger ag...   \n",
       "4          875   The Battle of New York: Why This Primary Matters   \n",
       "5         6903                                        Tehran, USA   \n",
       "6         7341  Girl Horrified At What She Watches Boyfriend D...   \n",
       "7           95                  ‘Britain’s Schindler’ Dies at 106   \n",
       "8         4869  Fact check: Trump and Clinton at the 'commande...   \n",
       "9         2909  Iran reportedly makes new push for uranium con...   \n",
       "10        1357  With all three Clintons in Iowa, a glimpse at ...   \n",
       "11         988  Donald Trump’s Shockingly Weak Delegate Game S...   \n",
       "12        7041  Strong Solar Storm, Tech Risks Today | S0 News...   \n",
       "13        7623       10 Ways America Is Preparing for World War 3   \n",
       "14        1571                   Trump takes on Cruz, but lightly   \n",
       "15        4739                         How women lead differently   \n",
       "16        7737  Shocking! Michele Obama & Hillary Caught Glamo...   \n",
       "17        8716  Hillary Clinton in HUGE Trouble After America ...   \n",
       "18        3304  What's in that Iran bill that Obama doesn't like?   \n",
       "19        3078  The 1 chart that explains everything you need ...   \n",
       "20        2517  The slippery slope to Trump’s proposed ban on ...   \n",
       "21       10348  Episode #160 – SUNDAY WIRE: ‘Hail to the Deplo...   \n",
       "22         778  Hillary Clinton Makes A Bipartisan Appeal on S...   \n",
       "23        3300  New Senate majority leader’s main goal for GOP...   \n",
       "24        6155              ‘Inferno’ and the Overpopulation Myth   \n",
       "25         636  Anti-Trump forces seek last-ditch delegate revolt   \n",
       "26         755  Sanders Trounces Clinton in W. Va. -- But Will...   \n",
       "27         626  Donald Trump Is Changing His Campaign Slogan t...   \n",
       "28         691  Pure chaos: Donald Trump’s campaign management...   \n",
       "29        5743  Syrian War Report – November 1, 2016: Syrian M...   \n",
       "30        1787                     GOP insiders: Carly crushed it   \n",
       "31        7808  Jeffrey Sewell et al. : Metabiology face to fa...   \n",
       "32        6484         Why It’s Necessary To Relax Into A Stretch   \n",
       "33        7385  Brexit Encourages UK to Trade With Non-EU Stat...   \n",
       "34        9016  2016 interview with Socrates: Another day of L...   \n",
       "35        9324  Mike Pence Drapes Shawl Over Immodest Lady Jus...   \n",
       "36        8983       First Ever Hindu Woman Elected into Congress   \n",
       "37        8965  Donald Groped Hillary in 2005! Trump and Weine...   \n",
       "38        5580  Ex-Assistant FBI Director: Clintons Are a Crim...   \n",
       "39        9757  Hillary Wants Aggressively Interventionist For...   \n",
       "40        1967  Both parties want to craft populist messages f...   \n",
       "41         431  First Take: Wall Street bids goodbye to June hike   \n",
       "42        5955  Real Disclosure! Secret Alien Base Found In Mo...   \n",
       "43        7455  Homeless Woman Protects Trump’s Walk of Fame S...   \n",
       "44        5224  With 3:20 a.m. tweet storm Saturday, Clinton c...   \n",
       "45        7793  220 ‘Significant’ Pipeline Spills Already This...   \n",
       "46        2777  Obama makes the right call to tough it out in ...   \n",
       "47         587  Senate race rankings: Dems attack as GOP lays ...   \n",
       "48        9403  ‘He didn’t know the boy didn’t want to be rape...   \n",
       "49        5931  Pieczenik “Rogue FBI Agents and Wikileaks are ...   \n",
       "50        3027    American politics has reached peak polarization   \n",
       "51        4377  Anti-Muhammad cartoon contest: Free speech or ...   \n",
       "52        5937  3 Effects of Substance Abuse on Individual, Fa...   \n",
       "53        7277  Tree Shaped Vertical Farms That Grow 24 Acres ...   \n",
       "54        5521               New Comment Features have been Added   \n",
       "55        3627         World's newspapers react to 'Hebdo' attack   \n",
       "56        9360         Ying and Yang (the Gold and Silver Set-Up)   \n",
       "57         909              Closed primaries, 'warped' democracy?   \n",
       "58        6646  Police Turn In Badges Rather Than Incite Viole...   \n",
       "59        1522  Donald Trump: Hillary Clinton has 'caused trem...   \n",
       "\n",
       "                                                 text  label  \n",
       "0   Daniel Greenfield, a Shillman Journalism Fello...      0  \n",
       "1   Google Pinterest Digg Linkedin Reddit Stumbleu...      0  \n",
       "2   U.S. Secretary of State John F. Kerry said Mon...      1  \n",
       "3   — Kaydee King (@KaydeeKing) November 9, 2016 T...      0  \n",
       "4   It's primary day in New York and front-runners...      1  \n",
       "5     \\nI’m not an immigrant, but my grandparents ...      0  \n",
       "6   Share This Baylee Luciani (left), Screenshot o...      0  \n",
       "7   A Czech stockbroker who saved more than 650 Je...      1  \n",
       "8   Hillary Clinton and Donald Trump made some ina...      1  \n",
       "9   Iranian negotiators reportedly have made a las...      1  \n",
       "10  CEDAR RAPIDS, Iowa — “I had one of the most wo...      1  \n",
       "11  Donald Trump’s organizational problems have go...      1  \n",
       "12  Click Here To Learn More About Alexandra's Per...      0  \n",
       "13  October 31, 2016 at 4:52 am \\nPretty factual e...      0  \n",
       "14  Killing Obama administration rules, dismantlin...      1  \n",
       "15  As more women move into high offices, they oft...      1  \n",
       "16  Shocking! Michele Obama & Hillary Caught Glamo...      0  \n",
       "17  0 \\nHillary Clinton has barely just lost the p...      0  \n",
       "18  Washington (CNN) For months, the White House a...      1  \n",
       "19  While paging through Pew's best data visualiza...      1  \n",
       "20  With little fanfare this fall, the New York de...      1  \n",
       "21  November 13, 2016 By 21wire Leave a Comment \\n...      0  \n",
       "22  Hillary Clinton told a Staten Island crowd tod...      1  \n",
       "23  Mitch McConnell has an unusual admonition for ...      1  \n",
       "24  Mises.org November 1, 2016 Inferno is a great ...      0  \n",
       "25  Washington (CNN) The faction of the GOP that i...      1  \n",
       "26  Meanwhile, Democrat Bernie Sanders picked up m...      1  \n",
       "27  After a week of nonstop criticism from Democra...      1  \n",
       "28  If you want a glimpse into a presidential cand...      1  \n",
       "29  Syrian War Report – October 31, 2016: Al-Nusra...      0  \n",
       "30  On this day in 1973, J. Fred Buzhardt, a lawye...      1  \n",
       "31  Randy Maugans & Jeffrey Sewell | Metabiology f...      0  \n",
       "32  In a previous article , I discussed stretching...      0  \n",
       "33  Britain and EU After Brexit ( 31 ) 0 13 0 0 Br...      0  \n",
       "34  Posted on October 27, 2016 by Carl Herman \\n“I...      0  \n",
       "35  Trump Raises Concern Over Members Of Urban Com...      0  \n",
       "36  First ever Hindu was elected to the US House o...      0  \n",
       "37  Topics: anthony weiner , presidential politics...      0  \n",
       "38  Ex-Assistant FBI Director: Clintons Are a Crim...      0  \n",
       "39  10-27-1 6 The first Bill and Hillary Clinton c...      0  \n",
       "40  Presidential hopefuls in both parties agree on...      1  \n",
       "41  NEW YORK -- Bye bye June rate hike. That was t...      1  \n",
       "42  Real Disclosure! Secret Alien Base Found In Mo...      0  \n",
       "43  Homeless Woman Protects Trump’s Walk of Fame S...      0  \n",
       "44  WHITE PLAINS, N.Y. — Not to be outdone by her ...      1  \n",
       "45  By Dan Zukowski\\nThree major U.S. pipeline spi...      0  \n",
       "46  The president now plans to continue a U.S. gro...      1  \n",
       "47  The move would make it easier for the Trump ad...      1  \n",
       "48  By INDRA WARNES \\nIn a truly shocking twist th...      0  \n",
       "49  Breaking News Pieczenik “Rogue FBI Agents and ...      0  \n",
       "50  For a long time in American politics, we've be...      1  \n",
       "51  Sponsors say that the shootings in Garland, Te...      1  \n",
       "52  Drug and substance abuse has ruined and taken ...      0  \n",
       "53  By Amanda Froelich This tree-like skyscraper i...      0  \n",
       "54  Be the First to Comment! Leave a Reply Click h...      0  \n",
       "55  The world watched in shock on Wednesday as Fre...      1  \n",
       "56  Ying and Yang (the Gold and Silver Set-Up) Pos...      0  \n",
       "57  Political parties choose their presidential no...      1  \n",
       "58  It should be evident if you’re following news ...      0  \n",
       "59  Republican presidential front-runner Donald Tr...      1  "
      ]
     },
     "execution_count": 114,
     "metadata": {},
     "output_type": "execute_result"
    }
   ],
   "source": [
    "df.head(60)"
   ]
  },
  {
   "cell_type": "code",
   "execution_count": 9,
   "metadata": {},
   "outputs": [
    {
     "data": {
      "text/plain": [
       "Unnamed: 0    0\n",
       "title         0\n",
       "text          0\n",
       "label         0\n",
       "dtype: int64"
      ]
     },
     "execution_count": 9,
     "metadata": {},
     "output_type": "execute_result"
    }
   ],
   "source": [
    "df.isnull().sum()"
   ]
  },
  {
   "cell_type": "code",
   "execution_count": 10,
   "metadata": {
    "scrolled": true
   },
   "outputs": [
    {
     "name": "stderr",
     "output_type": "stream",
     "text": [
      "[nltk_data] Downloading package stopwords to\n",
      "[nltk_data]     C:\\Users\\Yash\\AppData\\Roaming\\nltk_data...\n",
      "[nltk_data]   Package stopwords is already up-to-date!\n"
     ]
    },
    {
     "data": {
      "text/plain": [
       "True"
      ]
     },
     "execution_count": 10,
     "metadata": {},
     "output_type": "execute_result"
    }
   ],
   "source": [
    "nltk.download('stopwords')"
   ]
  },
  {
   "cell_type": "code",
   "execution_count": 11,
   "metadata": {},
   "outputs": [],
   "source": [
    "def process_text(text):\n",
    "    '''\n",
    "    1. Remove punctuation\n",
    "    2. Remove stopwords\n",
    "    3. Return list of clean text words\n",
    "    '''\n",
    "    \n",
    "    #1\n",
    "    nopunc = [char for char in text if char not in string.punctuation]\n",
    "    nopunc = ''.join(nopunc)\n",
    "    \n",
    "    #2\n",
    "    clean_words = [word for word in nopunc.split() if word.lower() not in stopwords.words('english')]\n",
    "    \n",
    "    #3\n",
    "    return clean_words"
   ]
  },
  {
   "cell_type": "code",
   "execution_count": 12,
   "metadata": {},
   "outputs": [
    {
     "data": {
      "text/plain": [
       "0    [Daniel, Greenfield, Shillman, Journalism, Fel...\n",
       "1    [Google, Pinterest, Digg, Linkedin, Reddit, St...\n",
       "2    [US, Secretary, State, John, F, Kerry, said, M...\n",
       "3    [—, Kaydee, King, KaydeeKing, November, 9, 201...\n",
       "4    [primary, day, New, York, frontrunners, Hillar...\n",
       "Name: text, dtype: object"
      ]
     },
     "execution_count": 12,
     "metadata": {},
     "output_type": "execute_result"
    }
   ],
   "source": [
    "#Show the Tokenization \n",
    "df['text'].head().apply(process_text) "
   ]
  },
  {
   "cell_type": "code",
   "execution_count": 13,
   "metadata": {},
   "outputs": [],
   "source": [
    "from sklearn.feature_extraction.text import CountVectorizer\n",
    "News = CountVectorizer(analyzer=process_text).fit_transform(df['text'])"
   ]
  },
  {
   "cell_type": "code",
   "execution_count": 54,
   "metadata": {},
   "outputs": [],
   "source": [
    "from sklearn.model_selection import train_test_split\n",
    "X_train, X_test, y_train, y_test = train_test_split(News, df['label'], test_size = 0.40, random_state = 0)"
   ]
  },
  {
   "cell_type": "code",
   "execution_count": 55,
   "metadata": {},
   "outputs": [
    {
     "data": {
      "text/plain": [
       "(6335, 128019)"
      ]
     },
     "execution_count": 55,
     "metadata": {},
     "output_type": "execute_result"
    }
   ],
   "source": [
    "#Get the shape of News\n",
    "News.shape"
   ]
  },
  {
   "cell_type": "code",
   "execution_count": 56,
   "metadata": {},
   "outputs": [
    {
     "data": {
      "text/plain": [
       "MultinomialNB(alpha=1.0, class_prior=None, fit_prior=True)"
      ]
     },
     "execution_count": 56,
     "metadata": {},
     "output_type": "execute_result"
    }
   ],
   "source": [
    "from sklearn.naive_bayes import MultinomialNB\n",
    "classifier = MultinomialNB()\n",
    "classifier.fit(X_train, y_train)"
   ]
  },
  {
   "cell_type": "code",
   "execution_count": 57,
   "metadata": {},
   "outputs": [
    {
     "name": "stdout",
     "output_type": "stream",
     "text": [
      "[0 0 0 ... 0 0 1]\n"
     ]
    }
   ],
   "source": [
    "#Print the predictions\n",
    "print(classifier.predict(X_train))"
   ]
  },
  {
   "cell_type": "code",
   "execution_count": 58,
   "metadata": {},
   "outputs": [
    {
     "name": "stdout",
     "output_type": "stream",
     "text": [
      "[0 0 0 ... 0 0 1]\n"
     ]
    }
   ],
   "source": [
    "#Print the actual values\n",
    "print(y_train.values)"
   ]
  },
  {
   "cell_type": "code",
   "execution_count": 59,
   "metadata": {},
   "outputs": [
    {
     "name": "stdout",
     "output_type": "stream",
     "text": [
      "              precision    recall  f1-score   support\n",
      "\n",
      "           0       0.99      0.93      0.96      1897\n",
      "           1       0.93      0.99      0.96      1904\n",
      "\n",
      "    accuracy                           0.96      3801\n",
      "   macro avg       0.96      0.96      0.96      3801\n",
      "weighted avg       0.96      0.96      0.96      3801\n",
      "\n",
      "Confusion Matrix: \n",
      " [[1759  138]\n",
      " [  21 1883]]\n",
      "\n",
      "Accuracy:  0.9581689029202841\n"
     ]
    }
   ],
   "source": [
    "#Evaluate the model on the training data set\n",
    "from sklearn.metrics import classification_report,confusion_matrix, accuracy_score\n",
    "pred = classifier.predict(X_train)\n",
    "print(classification_report(y_train ,pred ))\n",
    "print('Confusion Matrix: \\n',confusion_matrix(y_train,pred))\n",
    "print()\n",
    "print('Accuracy: ', accuracy_score(y_train,pred))"
   ]
  },
  {
   "cell_type": "code",
   "execution_count": 60,
   "metadata": {},
   "outputs": [
    {
     "name": "stdout",
     "output_type": "stream",
     "text": [
      "Predicted value:  [1 1 0 ... 0 1 0]\n"
     ]
    }
   ],
   "source": [
    " #Print the predictions\n",
    "print('Predicted value: ',classifier.predict(X_test))"
   ]
  },
  {
   "cell_type": "code",
   "execution_count": 61,
   "metadata": {},
   "outputs": [
    {
     "name": "stdout",
     "output_type": "stream",
     "text": [
      "Actual value:  [1 0 0 ... 0 1 0]\n"
     ]
    }
   ],
   "source": [
    "#Print Actual Label\n",
    "print('Actual value: ',y_test.values)"
   ]
  },
  {
   "cell_type": "code",
   "execution_count": 62,
   "metadata": {},
   "outputs": [
    {
     "name": "stdout",
     "output_type": "stream",
     "text": [
      "              precision    recall  f1-score   support\n",
      "\n",
      "           0       0.94      0.85      0.90      1267\n",
      "           1       0.86      0.95      0.91      1267\n",
      "\n",
      "    accuracy                           0.90      2534\n",
      "   macro avg       0.90      0.90      0.90      2534\n",
      "weighted avg       0.90      0.90      0.90      2534\n",
      "\n",
      "Confusion Matrix: \n",
      " [[1078  189]\n",
      " [  63 1204]]\n",
      "\n",
      "Accuracy:  0.9005524861878453\n"
     ]
    }
   ],
   "source": [
    "#Evaluate the model on the test data set\n",
    "from sklearn.metrics import classification_report,confusion_matrix, accuracy_score\n",
    "pred = classifier.predict(X_test)\n",
    "print(classification_report(y_test ,pred ))\n",
    "\n",
    "print('Confusion Matrix: \\n', confusion_matrix(y_test,pred))\n",
    "print()\n",
    "print('Accuracy: ', accuracy_score(y_test,pred))\n"
   ]
  },
  {
   "cell_type": "code",
   "execution_count": 63,
   "metadata": {},
   "outputs": [],
   "source": [
    "from sklearn.ensemble import RandomForestClassifier"
   ]
  },
  {
   "cell_type": "code",
   "execution_count": 64,
   "metadata": {},
   "outputs": [
    {
     "data": {
      "text/plain": [
       "RandomForestClassifier(bootstrap=True, class_weight=None, criterion='gini',\n",
       "                       max_depth=None, max_features='auto', max_leaf_nodes=None,\n",
       "                       min_impurity_decrease=0.0, min_impurity_split=None,\n",
       "                       min_samples_leaf=1, min_samples_split=2,\n",
       "                       min_weight_fraction_leaf=0.0, n_estimators=10,\n",
       "                       n_jobs=None, oob_score=False, random_state=1, verbose=0,\n",
       "                       warm_start=False)"
      ]
     },
     "execution_count": 64,
     "metadata": {},
     "output_type": "execute_result"
    }
   ],
   "source": [
    "clf1 = RandomForestClassifier(random_state=1)\n",
    "clf1.fit(X_train, y_train)"
   ]
  },
  {
   "cell_type": "code",
   "execution_count": 65,
   "metadata": {},
   "outputs": [
    {
     "name": "stdout",
     "output_type": "stream",
     "text": [
      "[0 0 0 ... 0 0 1]\n"
     ]
    }
   ],
   "source": [
    "#Print the predictions\n",
    "print(clf1.predict(X_train))"
   ]
  },
  {
   "cell_type": "code",
   "execution_count": 66,
   "metadata": {},
   "outputs": [
    {
     "name": "stdout",
     "output_type": "stream",
     "text": [
      "[0 0 0 ... 0 0 1]\n"
     ]
    }
   ],
   "source": [
    "#Print the actual values\n",
    "print(y_train.values)"
   ]
  },
  {
   "cell_type": "code",
   "execution_count": 67,
   "metadata": {},
   "outputs": [
    {
     "name": "stdout",
     "output_type": "stream",
     "text": [
      "              precision    recall  f1-score   support\n",
      "\n",
      "           0       0.99      1.00      0.99      1897\n",
      "           1       1.00      0.99      0.99      1904\n",
      "\n",
      "    accuracy                           0.99      3801\n",
      "   macro avg       0.99      0.99      0.99      3801\n",
      "weighted avg       0.99      0.99      0.99      3801\n",
      "\n",
      "Confusion Matrix: \n",
      " [[1894    3]\n",
      " [  22 1882]]\n",
      "\n",
      "Accuracy:  0.9934227834780321\n"
     ]
    }
   ],
   "source": [
    "#Evaluate the model on the training data set\n",
    "from sklearn.metrics import classification_report,confusion_matrix, accuracy_score\n",
    "pred = clf1.predict(X_train)\n",
    "print(classification_report(y_train ,pred ))\n",
    "print('Confusion Matrix: \\n',confusion_matrix(y_train,pred))\n",
    "print()\n",
    "print('Accuracy: ', accuracy_score(y_train,pred))"
   ]
  },
  {
   "cell_type": "code",
   "execution_count": 68,
   "metadata": {},
   "outputs": [
    {
     "name": "stdout",
     "output_type": "stream",
     "text": [
      "Predicted value:  [1 1 0 ... 0 1 0]\n"
     ]
    }
   ],
   "source": [
    " #Print the predictions\n",
    "print('Predicted value: ',clf1.predict(X_test))"
   ]
  },
  {
   "cell_type": "code",
   "execution_count": 69,
   "metadata": {},
   "outputs": [
    {
     "name": "stdout",
     "output_type": "stream",
     "text": [
      "Actual value:  [1 0 0 ... 0 1 0]\n"
     ]
    }
   ],
   "source": [
    "#Print Actual Label\n",
    "print('Actual value: ',y_test.values)"
   ]
  },
  {
   "cell_type": "code",
   "execution_count": 70,
   "metadata": {},
   "outputs": [
    {
     "name": "stdout",
     "output_type": "stream",
     "text": [
      "              precision    recall  f1-score   support\n",
      "\n",
      "           0       0.83      0.83      0.83      1267\n",
      "           1       0.83      0.83      0.83      1267\n",
      "\n",
      "    accuracy                           0.83      2534\n",
      "   macro avg       0.83      0.83      0.83      2534\n",
      "weighted avg       0.83      0.83      0.83      2534\n",
      "\n",
      "Confusion Matrix: \n",
      " [[1054  213]\n",
      " [ 218 1049]]\n",
      "\n",
      "Accuracy:  0.82991318074191\n"
     ]
    }
   ],
   "source": [
    "#Evaluate the model on the test data set\n",
    "from sklearn.metrics import classification_report,confusion_matrix, accuracy_score\n",
    "pred = clf1.predict(X_test)\n",
    "print(classification_report(y_test ,pred ))\n",
    "\n",
    "print('Confusion Matrix: \\n', confusion_matrix(y_test,pred))\n",
    "print()\n",
    "print('Accuracy: ', accuracy_score(y_test,pred))\n"
   ]
  },
  {
   "cell_type": "code",
   "execution_count": 71,
   "metadata": {},
   "outputs": [],
   "source": [
    "from sklearn.ensemble import BaggingClassifier,AdaBoostClassifier,VotingClassifier\n",
    "from sklearn.tree import DecisionTreeClassifier \n",
    "from sklearn import model_selection\n",
    "from sklearn.linear_model import LogisticRegression\n",
    "from sklearn.svm import SVC"
   ]
  },
  {
   "cell_type": "code",
   "execution_count": 72,
   "metadata": {},
   "outputs": [
    {
     "data": {
      "text/plain": [
       "DecisionTreeClassifier(class_weight=None, criterion='gini', max_depth=None,\n",
       "                       max_features=None, max_leaf_nodes=None,\n",
       "                       min_impurity_decrease=0.0, min_impurity_split=None,\n",
       "                       min_samples_leaf=1, min_samples_split=2,\n",
       "                       min_weight_fraction_leaf=0.0, presort=False,\n",
       "                       random_state=None, splitter='best')"
      ]
     },
     "execution_count": 72,
     "metadata": {},
     "output_type": "execute_result"
    }
   ],
   "source": [
    "#descision tree\n",
    "dt = DecisionTreeClassifier(criterion='gini',max_depth=None)\n",
    "dt.fit(X_train,y_train)"
   ]
  },
  {
   "cell_type": "code",
   "execution_count": 73,
   "metadata": {},
   "outputs": [
    {
     "name": "stdout",
     "output_type": "stream",
     "text": [
      "[0 0 0 ... 0 0 1]\n"
     ]
    }
   ],
   "source": [
    "# dt.score(X_test,y_test)\n",
    "#Print the predictions\n",
    "print(dt.predict(X_train))"
   ]
  },
  {
   "cell_type": "code",
   "execution_count": 74,
   "metadata": {},
   "outputs": [
    {
     "name": "stdout",
     "output_type": "stream",
     "text": [
      "[0 0 0 ... 0 0 1]\n"
     ]
    }
   ],
   "source": [
    "# dt.score(X_train,y_train)\n",
    "#Print the actual values\n",
    "print(y_train.values)"
   ]
  },
  {
   "cell_type": "code",
   "execution_count": 75,
   "metadata": {},
   "outputs": [],
   "source": [
    "predictions = dt.predict(X_test)"
   ]
  },
  {
   "cell_type": "code",
   "execution_count": 76,
   "metadata": {},
   "outputs": [],
   "source": [
    "from sklearn.metrics import classification_report,confusion_matrix"
   ]
  },
  {
   "cell_type": "code",
   "execution_count": 77,
   "metadata": {},
   "outputs": [
    {
     "name": "stdout",
     "output_type": "stream",
     "text": [
      "              precision    recall  f1-score   support\n",
      "\n",
      "           0       0.84      0.80      0.82      1267\n",
      "           1       0.81      0.85      0.83      1267\n",
      "\n",
      "    accuracy                           0.83      2534\n",
      "   macro avg       0.83      0.83      0.83      2534\n",
      "weighted avg       0.83      0.83      0.83      2534\n",
      "\n"
     ]
    }
   ],
   "source": [
    "print(classification_report(y_test,predictions))"
   ]
  },
  {
   "cell_type": "code",
   "execution_count": 78,
   "metadata": {},
   "outputs": [
    {
     "name": "stdout",
     "output_type": "stream",
     "text": [
      "[[1019  248]\n",
      " [ 195 1072]]\n",
      "Accuracy of prediction: 0.82991318074191\n"
     ]
    }
   ],
   "source": [
    "cm=confusion_matrix(y_test,predictions)\n",
    "print(cm)\n",
    "print (\"Accuracy of prediction:\",accuracy_score(y_test,pred))"
   ]
  },
  {
   "cell_type": "code",
   "execution_count": 79,
   "metadata": {},
   "outputs": [
    {
     "name": "stdout",
     "output_type": "stream",
     "text": [
      "              precision    recall  f1-score   support\n",
      "\n",
      "           0       1.00      1.00      1.00      1897\n",
      "           1       1.00      1.00      1.00      1904\n",
      "\n",
      "    accuracy                           1.00      3801\n",
      "   macro avg       1.00      1.00      1.00      3801\n",
      "weighted avg       1.00      1.00      1.00      3801\n",
      "\n",
      "Confusion Matrix: \n",
      " [[1897    0]\n",
      " [   0 1904]]\n",
      "\n",
      "Accuracy:  1.0\n"
     ]
    }
   ],
   "source": [
    "#Evaluate the model on the training data set\n",
    "from sklearn.metrics import classification_report,confusion_matrix, accuracy_score\n",
    "pred = dt.predict(X_train)\n",
    "print(classification_report(y_train ,pred ))\n",
    "print('Confusion Matrix: \\n',confusion_matrix(y_train,pred))\n",
    "print()\n",
    "print('Accuracy: ', accuracy_score(y_train,pred))"
   ]
  },
  {
   "cell_type": "code",
   "execution_count": 80,
   "metadata": {},
   "outputs": [
    {
     "name": "stdout",
     "output_type": "stream",
     "text": [
      "Predicted value:  [1 0 0 ... 1 1 0]\n"
     ]
    }
   ],
   "source": [
    " #Print the predictions\n",
    "print('Predicted value: ',dt.predict(X_test))"
   ]
  },
  {
   "cell_type": "code",
   "execution_count": 81,
   "metadata": {},
   "outputs": [
    {
     "name": "stdout",
     "output_type": "stream",
     "text": [
      "Actual value:  [1 0 0 ... 0 1 0]\n"
     ]
    }
   ],
   "source": [
    "#Print Actual Label\n",
    "print('Actual value: ',y_test.values)"
   ]
  },
  {
   "cell_type": "code",
   "execution_count": 82,
   "metadata": {
    "scrolled": true
   },
   "outputs": [
    {
     "name": "stdout",
     "output_type": "stream",
     "text": [
      "              precision    recall  f1-score   support\n",
      "\n",
      "           0       0.84      0.80      0.82      1267\n",
      "           1       0.81      0.85      0.83      1267\n",
      "\n",
      "    accuracy                           0.83      2534\n",
      "   macro avg       0.83      0.83      0.83      2534\n",
      "weighted avg       0.83      0.83      0.83      2534\n",
      "\n",
      "Confusion Matrix: \n",
      " [[1019  248]\n",
      " [ 195 1072]]\n",
      "\n",
      "Accuracy:  0.8251775848460932\n"
     ]
    }
   ],
   "source": [
    "#Evaluate the model on the test data set\n",
    "from sklearn.metrics import classification_report,confusion_matrix, accuracy_score\n",
    "pred = dt.predict(X_test)\n",
    "print(classification_report(y_test ,pred ))\n",
    "\n",
    "print('Confusion Matrix: \\n', confusion_matrix(y_test,pred))\n",
    "print()\n",
    "print('Accuracy: ', accuracy_score(y_test,pred))\n"
   ]
  },
  {
   "cell_type": "code",
   "execution_count": 83,
   "metadata": {},
   "outputs": [
    {
     "data": {
      "text/plain": [
       "BaggingClassifier(base_estimator=DecisionTreeClassifier(class_weight=None,\n",
       "                                                        criterion='gini',\n",
       "                                                        max_depth=None,\n",
       "                                                        max_features=None,\n",
       "                                                        max_leaf_nodes=None,\n",
       "                                                        min_impurity_decrease=0.0,\n",
       "                                                        min_impurity_split=None,\n",
       "                                                        min_samples_leaf=1,\n",
       "                                                        min_samples_split=2,\n",
       "                                                        min_weight_fraction_leaf=0.0,\n",
       "                                                        presort=False,\n",
       "                                                        random_state=None,\n",
       "                                                        splitter='best'),\n",
       "                  bootstrap=True, bootstrap_features=False, max_features=1.0,\n",
       "                  max_samples=0.5, n_estimators=20, n_jobs=None,\n",
       "                  oob_score=False, random_state=None, verbose=0,\n",
       "                  warm_start=False)"
      ]
     },
     "execution_count": 83,
     "metadata": {},
     "output_type": "execute_result"
    }
   ],
   "source": [
    "#Bagging \n",
    "\n",
    "bg = BaggingClassifier(DecisionTreeClassifier(), max_samples= 0.5, max_features = 1.0, n_estimators = 20)\n",
    "bg.fit(X_train,y_train)"
   ]
  },
  {
   "cell_type": "code",
   "execution_count": 84,
   "metadata": {},
   "outputs": [
    {
     "data": {
      "text/plain": [
       "0.8823993685872139"
      ]
     },
     "execution_count": 84,
     "metadata": {},
     "output_type": "execute_result"
    }
   ],
   "source": [
    "bg.score(X_test,y_test)"
   ]
  },
  {
   "cell_type": "code",
   "execution_count": 85,
   "metadata": {},
   "outputs": [
    {
     "data": {
      "text/plain": [
       "0.9707971586424625"
      ]
     },
     "execution_count": 85,
     "metadata": {},
     "output_type": "execute_result"
    }
   ],
   "source": [
    "bg.score(X_train,y_train)"
   ]
  },
  {
   "cell_type": "code",
   "execution_count": 86,
   "metadata": {},
   "outputs": [
    {
     "data": {
      "text/plain": [
       "AdaBoostClassifier(algorithm='SAMME.R',\n",
       "                   base_estimator=DecisionTreeClassifier(class_weight=None,\n",
       "                                                         criterion='gini',\n",
       "                                                         max_depth=None,\n",
       "                                                         max_features=None,\n",
       "                                                         max_leaf_nodes=None,\n",
       "                                                         min_impurity_decrease=0.0,\n",
       "                                                         min_impurity_split=None,\n",
       "                                                         min_samples_leaf=1,\n",
       "                                                         min_samples_split=2,\n",
       "                                                         min_weight_fraction_leaf=0.0,\n",
       "                                                         presort=False,\n",
       "                                                         random_state=None,\n",
       "                                                         splitter='best'),\n",
       "                   learning_rate=1, n_estimators=5, random_state=None)"
      ]
     },
     "execution_count": 86,
     "metadata": {},
     "output_type": "execute_result"
    }
   ],
   "source": [
    "#Boosting - Ada Boost\n",
    "\n",
    "adb = AdaBoostClassifier(DecisionTreeClassifier(),n_estimators = 5, learning_rate = 1)\n",
    "adb.fit(X_train,y_train)"
   ]
  },
  {
   "cell_type": "code",
   "execution_count": 87,
   "metadata": {},
   "outputs": [
    {
     "data": {
      "text/plain": [
       "0.8287292817679558"
      ]
     },
     "execution_count": 87,
     "metadata": {},
     "output_type": "execute_result"
    }
   ],
   "source": [
    "adb.score(X_test,y_test)"
   ]
  },
  {
   "cell_type": "code",
   "execution_count": 88,
   "metadata": {},
   "outputs": [
    {
     "data": {
      "text/plain": [
       "1.0"
      ]
     },
     "execution_count": 88,
     "metadata": {},
     "output_type": "execute_result"
    }
   ],
   "source": [
    "adb.score(X_train,y_train)"
   ]
  },
  {
   "cell_type": "code",
   "execution_count": 89,
   "metadata": {},
   "outputs": [
    {
     "name": "stdout",
     "output_type": "stream",
     "text": [
      "Requirement already satisfied: mlxtend in c:\\users\\yash\\anaconda3\\lib\\site-packages (0.17.2)\n",
      "Requirement already satisfied: pandas>=0.24.2 in c:\\users\\yash\\anaconda3\\lib\\site-packages (from mlxtend) (0.25.1)\n",
      "Requirement already satisfied: matplotlib>=3.0.0 in c:\\users\\yash\\anaconda3\\lib\\site-packages (from mlxtend) (3.1.1)\n",
      "Requirement already satisfied: scikit-learn>=0.20.3 in c:\\users\\yash\\anaconda3\\lib\\site-packages (from mlxtend) (0.21.3)\n",
      "Requirement already satisfied: numpy>=1.16.2 in c:\\users\\yash\\anaconda3\\lib\\site-packages (from mlxtend) (1.16.5)\n",
      "Requirement already satisfied: scipy>=1.2.1 in c:\\users\\yash\\anaconda3\\lib\\site-packages (from mlxtend) (1.3.1)\n",
      "Requirement already satisfied: setuptools in c:\\users\\yash\\anaconda3\\lib\\site-packages (from mlxtend) (41.4.0)\n",
      "Requirement already satisfied: joblib>=0.13.2 in c:\\users\\yash\\anaconda3\\lib\\site-packages (from mlxtend) (0.13.2)\n",
      "Requirement already satisfied: pytz>=2017.2 in c:\\users\\yash\\anaconda3\\lib\\site-packages (from pandas>=0.24.2->mlxtend) (2019.3)\n",
      "Requirement already satisfied: python-dateutil>=2.6.1 in c:\\users\\yash\\anaconda3\\lib\\site-packages (from pandas>=0.24.2->mlxtend) (2.8.0)\n",
      "Requirement already satisfied: cycler>=0.10 in c:\\users\\yash\\anaconda3\\lib\\site-packages (from matplotlib>=3.0.0->mlxtend) (0.10.0)\n",
      "Requirement already satisfied: kiwisolver>=1.0.1 in c:\\users\\yash\\anaconda3\\lib\\site-packages (from matplotlib>=3.0.0->mlxtend) (1.1.0)\n",
      "Requirement already satisfied: pyparsing!=2.0.4,!=2.1.2,!=2.1.6,>=2.0.1 in c:\\users\\yash\\anaconda3\\lib\\site-packages (from matplotlib>=3.0.0->mlxtend) (2.4.2)\n",
      "Requirement already satisfied: six>=1.5 in c:\\users\\yash\\anaconda3\\lib\\site-packages (from python-dateutil>=2.6.1->pandas>=0.24.2->mlxtend) (1.12.0)\n",
      "Note: you may need to restart the kernel to use updated packages.\n"
     ]
    }
   ],
   "source": [
    "pip install mlxtend"
   ]
  },
  {
   "cell_type": "code",
   "execution_count": 90,
   "metadata": {},
   "outputs": [],
   "source": [
    "from mlxtend.classifier import StackingClassifier\n",
    "from sklearn.neighbors import KNeighborsClassifier"
   ]
  },
  {
   "cell_type": "code",
   "execution_count": 91,
   "metadata": {},
   "outputs": [],
   "source": [
    "import warnings\n",
    "\n",
    "warnings.simplefilter('ignore')"
   ]
  },
  {
   "cell_type": "code",
   "execution_count": 92,
   "metadata": {},
   "outputs": [],
   "source": [
    "clf1 = KNeighborsClassifier(n_neighbors=1)\n",
    "clf2 = RandomForestClassifier(random_state=1)\n",
    "clf3 = MultinomialNB()\n",
    "lr   = LogisticRegression()\n",
    "sclf = StackingClassifier(classifiers=[clf1, clf2, clf3], \n",
    "                          meta_classifier=lr)"
   ]
  },
  {
   "cell_type": "code",
   "execution_count": 94,
   "metadata": {},
   "outputs": [
    {
     "name": "stdout",
     "output_type": "stream",
     "text": [
      "4-fold cross validation:\n",
      "\n",
      "Accuracy: 0.78 (+/- 0.00) [KNN]\n",
      "Accuracy: 0.84 (+/- 0.00) [Random Forest]\n",
      "Accuracy: 0.90 (+/- 0.01) [Naive Bayes]\n",
      "Accuracy: 0.92 (+/- 0.01) [Logistic Regression]\n",
      "Accuracy: 0.81 (+/- 0.03) [StackingClassifier]\n"
     ]
    }
   ],
   "source": [
    "print('4-fold cross validation:\\n')\n",
    "\n",
    "for clf, label in zip([clf1, clf2, clf3,lr, sclf], \n",
    "                      ['KNN', \n",
    "                       'Random Forest', \n",
    "                       'Naive Bayes',\n",
    "                       'Logistic Regression','StackingClassifier']):\n",
    "\n",
    "    scores = model_selection.cross_val_score(clf, X_train, y_train,cv=4, scoring='accuracy')\n",
    "    print(\"Accuracy: %0.2f (+/- %0.2f) [%s]\" \n",
    "          % (scores.mean(), scores.std(), label))"
   ]
  },
  {
   "cell_type": "code",
   "execution_count": 95,
   "metadata": {},
   "outputs": [
    {
     "name": "stdout",
     "output_type": "stream",
     "text": [
      "4-fold cross validation:\n",
      "\n",
      "Accuracy: 0.75 (+/- 0.01) [KNN]\n",
      "Accuracy: 0.81 (+/- 0.01) [Random Forest]\n",
      "Accuracy: 0.88 (+/- 0.01) [Naive Bayes]\n",
      "Accuracy: 0.90 (+/- 0.00) [Logistic Regression]\n",
      "Accuracy: 0.79 (+/- 0.02) [StackingClassifier]\n"
     ]
    }
   ],
   "source": [
    "print('4-fold cross validation:\\n')\n",
    "\n",
    "for clf, label in zip([clf1, clf2, clf3,lr, sclf], \n",
    "                      ['KNN', \n",
    "                       'Random Forest', \n",
    "                       'Naive Bayes',\n",
    "                       'Logistic Regression','StackingClassifier']):\n",
    "\n",
    "    scores = model_selection.cross_val_score(clf, X_test, y_test,cv=4, scoring='accuracy')\n",
    "    print(\"Accuracy: %0.2f (+/- %0.2f) [%s]\" \n",
    "          % (scores.mean(), scores.std(), label))"
   ]
  },
  {
   "cell_type": "code",
   "execution_count": 99,
   "metadata": {},
   "outputs": [
    {
     "data": {
      "text/plain": [
       "0.8823993685872139"
      ]
     },
     "execution_count": 99,
     "metadata": {},
     "output_type": "execute_result"
    }
   ],
   "source": [
    "bg.score(X_test,y_test) # bagging "
   ]
  },
  {
   "cell_type": "code",
   "execution_count": 100,
   "metadata": {},
   "outputs": [
    {
     "data": {
      "text/plain": [
       "0.8287292817679558"
      ]
     },
     "execution_count": 100,
     "metadata": {},
     "output_type": "execute_result"
    }
   ],
   "source": [
    "adb.score(X_test,y_test)  # Boosting"
   ]
  },
  {
   "cell_type": "code",
   "execution_count": 101,
   "metadata": {},
   "outputs": [
    {
     "name": "stdout",
     "output_type": "stream",
     "text": [
      "4-fold cross validation:\n",
      "\n",
      "Accuracy: 0.75 (+/- 0.01) [KNN]\n",
      "Accuracy: 0.81 (+/- 0.01) [Random Forest]\n",
      "Accuracy: 0.88 (+/- 0.01) [Naive Bayes]\n",
      "Accuracy: 0.90 (+/- 0.00) [Logistic Regression]\n",
      "Accuracy: 0.79 (+/- 0.02) [StackingClassifier]\n"
     ]
    }
   ],
   "source": [
    "# Stacking\n",
    "print('4-fold cross validation:\\n')\n",
    "\n",
    "for clf, label in zip([clf1, clf2, clf3,lr, sclf], \n",
    "                      ['KNN', \n",
    "                       'Random Forest', \n",
    "                       'Naive Bayes',\n",
    "                       'Logistic Regression','StackingClassifier']):\n",
    "\n",
    "    scores = model_selection.cross_val_score(clf, X_test, y_test,cv=4, scoring='accuracy')\n",
    "    print(\"Accuracy: %0.2f (+/- %0.2f) [%s]\" \n",
    "          % (scores.mean(), scores.std(), label))"
   ]
  },
  {
   "cell_type": "code",
   "execution_count": 117,
   "metadata": {},
   "outputs": [
    {
     "data": {
      "text/plain": [
       "<6335x128019 sparse matrix of type '<class 'numpy.int64'>'\n",
       "\twith 1927260 stored elements in Compressed Sparse Row format>"
      ]
     },
     "execution_count": 117,
     "metadata": {},
     "output_type": "execute_result"
    }
   ],
   "source": [
    "News"
   ]
  }
 ],
 "metadata": {
  "kernelspec": {
   "display_name": "Python 3",
   "language": "python",
   "name": "python3"
  },
  "language_info": {
   "codemirror_mode": {
    "name": "ipython",
    "version": 3
   },
   "file_extension": ".py",
   "mimetype": "text/x-python",
   "name": "python",
   "nbconvert_exporter": "python",
   "pygments_lexer": "ipython3",
   "version": "3.7.4"
  }
 },
 "nbformat": 4,
 "nbformat_minor": 2
}
